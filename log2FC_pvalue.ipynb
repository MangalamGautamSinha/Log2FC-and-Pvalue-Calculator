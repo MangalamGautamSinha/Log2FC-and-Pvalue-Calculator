{
 "cells": [
  {
   "cell_type": "code",
   "execution_count": null,
   "metadata": {},
   "outputs": [],
   "source": [
    "# This python script calculates the log2FC, first by finding average FPKM of a particular gene across all the tumor cases and then similarly for the normal cases. Then divides normal by tumor and takes log base 2.\n",
    "#Also calculates pvalue\n",
    "import pandas as pd\n",
    "import numpy as np\n",
    "from scipy.stats import ttest_ind"
   ]
  },
  {
   "cell_type": "code",
   "execution_count": null,
   "metadata": {},
   "outputs": [],
   "source": [
    "output_file_name= \"./Log2FC_Avg_pvalue/m_vs_normal_Log2FC_pvalue.csv\""
   ]
  },
  {
   "cell_type": "code",
   "execution_count": null,
   "metadata": {},
   "outputs": [],
   "source": [
    "tumor_df = pd.read_csv('m_merged.csv')\n",
    "normal_df = pd.read_csv('normal_merged.csv')\n",
    "\n",
    "df = pd.DataFrame()\n",
    "df['gene_id']=normal_df['gene_id']\n",
    "df['gene_name']=normal_df['gene_name']\n",
    "df.head()"
   ]
  },
  {
   "cell_type": "code",
   "execution_count": null,
   "metadata": {},
   "outputs": [],
   "source": [
    "row_means_normal = normal_df.iloc[:, 2:].mean(axis=1)\n",
    "df['Avg_FPKM_normal'] = row_means_normal\n"
   ]
  },
  {
   "cell_type": "code",
   "execution_count": null,
   "metadata": {},
   "outputs": [],
   "source": [
    "row_means_tumor = tumor_df.iloc[:, 2:].mean(axis=1)\n",
    "df['Avg_FPKM_tumor'] = row_means_tumor\n",
    "df.head()"
   ]
  },
  {
   "cell_type": "code",
   "execution_count": null,
   "metadata": {},
   "outputs": [],
   "source": [
    "df.tail()"
   ]
  },
  {
   "cell_type": "code",
   "execution_count": null,
   "metadata": {},
   "outputs": [],
   "source": [
    "df['FC'] = df['Avg_FPKM_tumor'] / df['Avg_FPKM_normal']\n",
    "df['FC'] = df['FC'].replace([np.inf, -np.inf], np.nan)\n",
    "\n",
    "df['log2FC'] = np.log2(df['Avg_FPKM_tumor'] / df['Avg_FPKM_normal'])\n",
    "df['log2FC'] = df['log2FC'].replace([np.inf, -np.inf], np.nan)\n",
    "\n",
    "df['Regulation'] = np.where(df['log2FC'] > 2, 'Up', np.where(df['log2FC'] < -2, 'Down', '-'))\n",
    "\n",
    "df.head()"
   ]
  },
  {
   "cell_type": "code",
   "execution_count": null,
   "metadata": {},
   "outputs": [],
   "source": [
    "\n",
    "p_values = []\n",
    "for i in range(len(df)):\n",
    "    control = normal_df.iloc[i, 2:].to_list()\n",
    "    treated = tumor_df.iloc[i, 2:].to_list()\n",
    "    p_value = ttest_ind(control, treated, equal_var=True).pvalue\n",
    "    p_values.append(p_value)\n",
    "\n",
    "df['pvalue'] = p_values\n"
   ]
  },
  {
   "cell_type": "code",
   "execution_count": null,
   "metadata": {},
   "outputs": [],
   "source": [
    "df.tail()"
   ]
  },
  {
   "cell_type": "code",
   "execution_count": null,
   "metadata": {},
   "outputs": [],
   "source": [
    "df.to_csv(output_file_name, index=False)"
   ]
  }
 ],
 "metadata": {
  "kernelspec": {
   "display_name": "Python 3",
   "language": "python",
   "name": "python3"
  },
  "language_info": {
   "codemirror_mode": {
    "name": "ipython",
    "version": 3
   },
   "file_extension": ".py",
   "mimetype": "text/x-python",
   "name": "python",
   "nbconvert_exporter": "python",
   "pygments_lexer": "ipython3",
   "version": "3.12.3"
  }
 },
 "nbformat": 4,
 "nbformat_minor": 2
}
